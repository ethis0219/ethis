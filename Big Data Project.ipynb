{
 "cells": [
  {
   "cell_type": "markdown",
   "metadata": {},
   "source": [
    "## Jieba"
   ]
  },
  {
   "cell_type": "code",
   "execution_count": 1,
   "metadata": {
    "collapsed": false
   },
   "outputs": [
    {
     "name": "stderr",
     "output_type": "stream",
     "text": [
      "Building prefix dict from the default dictionary ...\n",
      "Loading model from cache c:\\users\\bigdat~1\\appdata\\local\\temp\\jieba.cache\n",
      "Loading model cost 0.262 seconds.\n",
      "Prefix dict has been built succesfully.\n"
     ]
    },
    {
     "name": "stdout",
     "output_type": "stream",
     "text": [
      "Full Mode: 我/ 来到/ 北京/ 清华/ 清华大学/ 华大/ 大学\n",
      "Default Mode: 我/ 来到/ 北京/ 清华大学\n",
      "他, 来到, 了, 网易, 杭研, 大厦\n"
     ]
    }
   ],
   "source": [
    "import jieba\n",
    "seg_list = jieba.cut(\"我来到北京清华大学\", cut_all=True)\n",
    "print(\"Full Mode: \" + \"/ \".join(seg_list))\n",
    "\n",
    "seg_list1 = jieba.cut(\"我来到北京清华大学\", cut_all=False)\n",
    "print(\"Default Mode: \" + \"/ \".join(seg_list1))  # 精确模式\n",
    "\n",
    "seg_list2 = jieba.cut(\"他来到了网易杭研大厦\")  # 默认是精确模式\n",
    "print(\", \".join(seg_list2))\n"
   ]
  },
  {
   "cell_type": "markdown",
   "metadata": {},
   "source": [
    "## 抓露天大項目"
   ]
  },
  {
   "cell_type": "code",
   "execution_count": 23,
   "metadata": {
    "collapsed": false
   },
   "outputs": [
    {
     "name": "stdout",
     "output_type": "stream",
     "text": [
      "==================\n",
      "電腦、電子、周邊\n",
      "==================\n",
      "手機、通訊\n",
      "==================\n",
      "家電、影音周邊\n",
      "==================\n",
      "交通工具\n",
      "==================\n",
      "相機、攝影機\n",
      "==================\n",
      "玩具、公仔\n",
      "==================\n",
      "電玩、遊戲\n",
      "==================\n",
      "生活、居家\n",
      "==================\n",
      "男裝、配件、男鞋\n",
      "==================\n",
      "運動、健身\n",
      "==================\n",
      "休閒、旅遊\n",
      "==================\n",
      "名產、食品\n",
      "==================\n",
      "保養、彩妝\n",
      "==================\n",
      "流行女裝\n",
      "==================\n",
      "女性飾品、配件\n",
      "==================\n",
      "女包、精品與女鞋\n",
      "==================\n",
      "女性內衣\n",
      "==================\n",
      "嬰幼童、母親\n",
      "==================\n",
      "書籍、文創、科學\n",
      "==================\n",
      "音樂、電影\n",
      "==================\n",
      "明星、偶像\n",
      "==================\n",
      "鐘錶、眼鏡\n",
      "==================\n",
      "古董、收藏\n",
      "==================\n",
      "不動產、百業、服務\n",
      "==================\n",
      "成人專區\n"
     ]
    }
   ],
   "source": [
    "import requests\n",
    "from bs4 import BeautifulSoup\n",
    "\n",
    "res = requests.get('http://www.ruten.com.tw/')\n",
    "soup = BeautifulSoup(res.text)\n",
    "#print soup\n",
    "\n",
    "for snap in soup.select('.category-heading'):\n",
    "    title = snap.text.strip()\n",
    "    titles = title.split()\n",
    "    print '=================='\n",
    "    print titles[0]"
   ]
  },
  {
   "cell_type": "code",
   "execution_count": null,
   "metadata": {
    "collapsed": true
   },
   "outputs": [],
   "source": []
  }
 ],
 "metadata": {
  "kernelspec": {
   "display_name": "Python 2",
   "language": "python",
   "name": "python2"
  },
  "language_info": {
   "codemirror_mode": {
    "name": "ipython",
    "version": 2
   },
   "file_extension": ".py",
   "mimetype": "text/x-python",
   "name": "python",
   "nbconvert_exporter": "python",
   "pygments_lexer": "ipython2",
   "version": "2.7.11"
  }
 },
 "nbformat": 4,
 "nbformat_minor": 0
}
